{
 "cells": [
  {
   "cell_type": "code",
   "execution_count": 27,
   "metadata": {
    "scrolled": false
   },
   "outputs": [
    {
     "name": "stderr",
     "output_type": "stream",
     "text": [
      "C:\\Users\\user\\Anaconda3\\lib\\site-packages\\ipykernel_launcher.py:24: FutureWarning: Sorting because non-concatenation axis is not aligned. A future version\n",
      "of pandas will change to not sort by default.\n",
      "\n",
      "To accept the future behavior, pass 'sort=False'.\n",
      "\n",
      "To retain the current behavior and silence the warning, pass 'sort=True'.\n",
      "\n"
     ]
    },
    {
     "name": "stdout",
     "output_type": "stream",
     "text": [
      "digraph Tree {\n",
      "node [shape=box, style=\"filled\", color=\"black\"] ;\n",
      "0 [label=\"is_male <= 0.5\\ngini = 0.473\\nsamples = 891\\nvalue = [549, 342]\", fillcolor=\"#e5813960\"] ;\n",
      "1 [label=\"pclass_3 <= 0.5\\ngini = 0.383\\nsamples = 314\\nvalue = [81, 233]\", fillcolor=\"#399de5a6\"] ;\n",
      "0 -> 1 [labeldistance=2.5, labelangle=45, headlabel=\"True\"] ;\n",
      "2 [label=\"gini = 0.1\\nsamples = 170\\nvalue = [9, 161]\", fillcolor=\"#399de5f1\"] ;\n",
      "1 -> 2 ;\n",
      "3 [label=\"gini = 0.5\\nsamples = 144\\nvalue = [72, 72]\", fillcolor=\"#e5813900\"] ;\n",
      "1 -> 3 ;\n",
      "4 [label=\"age <= 6.5\\ngini = 0.306\\nsamples = 577\\nvalue = [468, 109]\", fillcolor=\"#e58139c4\"] ;\n",
      "0 -> 4 [labeldistance=2.5, labelangle=-45, headlabel=\"False\"] ;\n",
      "5 [label=\"gini = 0.444\\nsamples = 24\\nvalue = [8, 16]\", fillcolor=\"#399de57f\"] ;\n",
      "4 -> 5 ;\n",
      "6 [label=\"gini = 0.28\\nsamples = 553\\nvalue = [460, 93]\", fillcolor=\"#e58139cb\"] ;\n",
      "4 -> 6 ;\n",
      "}\n"
     ]
    },
    {
     "name": "stderr",
     "output_type": "stream",
     "text": [
      "C:\\Users\\user\\Anaconda3\\lib\\site-packages\\sklearn\\model_selection\\_search.py:762: DeprecationWarning: The grid_scores_ attribute was deprecated in version 0.18 in favor of the more elaborate cv_results_ attribute. The grid_scores_ attribute will not be available from 0.20\n",
      "  DeprecationWarning)\n"
     ]
    },
    {
     "data": {
      "image/png": "[encoded data removed]",
      "text/plain": [
       "<Figure size 432x288 with 1 Axes>"
      ]
     },
     "metadata": {
      "needs_background": "light"
     },
     "output_type": "display_data"
    }
   ],
   "source": [
    "import os\n",
    "import random\n",
    "from sklearn.tree import DecisionTreeClassifier\n",
    "import pandas as pd\n",
    "from sklearn.model_selection import train_test_split, GridSearchCV\n",
    "from sklearn.metrics import accuracy_score\n",
    "import numpy as np\n",
    "from matplotlib import pyplot as plt\n",
    "from sklearn.tree import export_graphviz\n",
    "\n",
    "\n",
    "def get_tree_dot_view(clf, feature_names=None, class_names=None):\n",
    "    print(export_graphviz(clf, out_file=None, filled=True, feature_names=feature_names, class_names=class_names))\n",
    "\n",
    "\n",
    "#посмотрим на большее число колонок\n",
    "pd.set_option('display.expand_frame_repr', False)\n",
    "data_train = pd.read_csv('train_titanic.csv')\n",
    "data_test = pd.read_csv('test_titanic.csv')\n",
    "data_submission = pd.read_csv('gender_submission.csv')\n",
    "\n",
    "data_train['is_test'] = False\n",
    "data_test['is_test'] = True\n",
    "data = pd.concat([data_train, data_test], axis=0)\n",
    "\n",
    "data.columns = data.columns.str.lower()\n",
    "\n",
    "#проверим содержит ли имя Mr, Mrs, Miss\n",
    "data['is_mr'] = data['name'].str.lower().str.contains('|'.join(['mr.', 'mrs.', 'miss.'])).astype(int)\n",
    "data['is_male'] = data['sex'].str.match('male').astype(int)\n",
    "data.age.fillna(data.age.median(), inplace=True)\n",
    "\n",
    "#создаем датафрейм с колонками: возраст, is_mr, is_male, pclass\n",
    "X = pd.DataFrame({'age': data['age'], 'is_mr': data['is_mr'], 'is_male': data['is_male'], 'pclass': data['pclass'], 'is_test': data['is_test']})\n",
    "\n",
    "#создаем три колонки вместо pclass\n",
    "X = pd.get_dummies(X, columns=['pclass'])\n",
    "\n",
    "y = data_train['Survived']\n",
    "\n",
    "X_train = X[~X.is_test]\n",
    "X_test = X[X.is_test]\n",
    "\n",
    "del X_train['is_test']\n",
    "del X_test['is_test']\n",
    "\n",
    "depths = np.arange(1, 10)\n",
    "grid = {'max_depth': depths}\n",
    "gridsearch = GridSearchCV(DecisionTreeClassifier(), grid, scoring='neg_log_loss', cv=5)\n",
    "gridsearch.fit(X_train, y)\n",
    "\n",
    "scores = [-x.mean_validation_score for x in gridsearch.grid_scores_]\n",
    "plt.plot(depths, scores)\n",
    "plt.scatter(depths, scores)\n",
    "best_point = np.argmin(scores)\n",
    "plt.scatter(depths[best_point], scores[best_point], c='g', s=100)\n",
    "\n",
    "clf_final = DecisionTreeClassifier(max_depth=depths[best_point])\n",
    "clf_final.fit(X_train, y)\n",
    "\n",
    "y_pred_proba = clf_final.predict_proba(X_test)\n",
    "y_pred = clf_final.predict(X_test)\n",
    "\n",
    "submit = pd.DataFrame(y_pred, columns=data_submission.columns[1:])\n",
    "submit['ID'] = data_submission.PassengerId\n",
    "submit = submit[[submit.columns[-1]]+list(submit.columns[:-1])]\n",
    "submit.to_csv('submit_titanic.csv', index=False)\n",
    "\n",
    "get_tree_dot_view(clf_final, list(X_train.columns))\n",
    "\n"
   ]
  },
  {
   "cell_type": "code",
   "execution_count": null,
   "metadata": {},
   "outputs": [],
   "source": []
  },
  {
   "cell_type": "code",
   "execution_count": null,
   "metadata": {},
   "outputs": [],
   "source": []
  }
 ],
 "metadata": {
  "kernelspec": {
   "display_name": "Python 3",
   "language": "python",
   "name": "python3"
  },
  "language_info": {
   "codemirror_mode": {
    "name": "ipython",
    "version": 3
   },
   "file_extension": ".py",
   "mimetype": "text/x-python",
   "name": "python",
   "nbconvert_exporter": "python",
   "pygments_lexer": "ipython3",
   "version": "3.7.0"
  }
 },
 "nbformat": 4,
 "nbformat_minor": 2
}
