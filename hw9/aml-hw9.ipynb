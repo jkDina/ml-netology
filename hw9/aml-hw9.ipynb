{
 "cells": [
  {
   "cell_type": "code",
   "execution_count": null,
   "metadata": {},
   "outputs": [],
   "source": [
    "#Домашняя работа\n",
    "#Взять boston house-prices datase (sklearn.datasets.load_boston) \n",
    "#и сделать тоже самое для задачи регрессии (попробовать разные алгоритмы, \n",
    "#поподбирать параметры, вывести итоговое качество)"
   ]
  },
  {
   "cell_type": "code",
   "execution_count": 70,
   "metadata": {},
   "outputs": [],
   "source": [
    "from sklearn.datasets import load_boston\n",
    "from sklearn.model_selection import train_test_split, GridSearchCV\n",
    "from sklearn.preprocessing import StandardScaler\n",
    "from sklearn import metrics\n",
    "import matplotlib.pyplot as plt\n",
    "import pandas as pd\n",
    "import numpy as np"
   ]
  },
  {
   "cell_type": "code",
   "execution_count": 71,
   "metadata": {},
   "outputs": [],
   "source": [
    "data = load_boston()\n",
    "\n",
    "X = data.data\n",
    "y = data.target\n",
    "\n",
    "X_train, X_valid, y_train, y_valid = train_test_split(X, y, test_size=0.2)\n",
    "\n",
    "sc = StandardScaler()\n",
    "X_train = sc.fit_transform(X_train)\n",
    "X_valid = sc.transform(X_valid)\n"
   ]
  },
  {
   "cell_type": "code",
   "execution_count": 72,
   "metadata": {},
   "outputs": [
    {
     "name": "stdout",
     "output_type": "stream",
     "text": [
      "0.7081721896416117\n",
      "{'fit_intercept': True}\n",
      "LinearRegression(copy_X=True, fit_intercept=True, n_jobs=1, normalize=False)\n"
     ]
    }
   ],
   "source": [
    "#LinearRegression\n",
    "from sklearn.linear_model import LinearRegression\n",
    "lr_params = {\n",
    "    'fit_intercept' : [True, False]\n",
    "}\n",
    "lr = LinearRegression(copy_X=True)\n",
    "grid_lr = GridSearchCV(lr, lr_params, cv=10)\n",
    "grid_lr.fit(X_train, y_train)\n",
    "print(grid_lr.best_score_)\n",
    "print(grid_lr.best_params_)\n",
    "print(grid_lr.best_estimator_)"
   ]
  },
  {
   "cell_type": "code",
   "execution_count": null,
   "metadata": {},
   "outputs": [],
   "source": [
    "#DecisionTreeRegressor\n",
    "from sklearn.tree import DecisionTreeRegressor\n",
    "dtr_params = {\n",
    "    'max_depth': np.arange(1, 20, 3),\n",
    "    'min_samples_leaf': [1, 3, 5, 7, 10, 15, 20],\n",
    "    'min_samples_split': [2, 4, 6, 10]\n",
    "}\n",
    "dtr = DecisionTreeRegressor(random_state=1)\n",
    "grid_dtr = GridSearchCV(dtr, dtr_params, cv=10, scoring='r2')\n",
    "grid_dtr.fit(X_train, y_train)\n",
    "print(grid_dtr.best_score_)\n",
    "print(grid_dtr.best_params_)\n",
    "print(grid_dtr.best_estimator_)"
   ]
  },
  {
   "cell_type": "code",
   "execution_count": null,
   "metadata": {},
   "outputs": [],
   "source": [
    "#RandomForestRegressor\n",
    "from sklearn.ensemble import RandomForestRegressor\n",
    "rfr_params = {\n",
    "    'n_estimators': [1, 3, 5, 7, 12, 14, 20],\n",
    "    'max_depth': [2, 8, 12],\n",
    "    'min_samples_split': [2, 5, 7, 9]\n",
    "}\n",
    "rfr = RandomForestRegressor(oob_score=True)\n",
    "grid_rfr = GridSearchCV(rfr, rfr_params, cv=10)\n",
    "grid_rfr.fit(X_train, y_train)\n",
    "print(grid_rfr.best_score_)\n",
    "print(grid_rfr.best_params_)\n",
    "print(grid_rfr.best_estimator_)"
   ]
  },
  {
   "cell_type": "code",
   "execution_count": 61,
   "metadata": {},
   "outputs": [
    {
     "name": "stdout",
     "output_type": "stream",
     "text": [
      "0.6683272642188113\n",
      "{'C': 1, 'degree': 1, 'epsilon': 0.02, 'kernel': 'linear'}\n",
      "SVR(C=1, cache_size=200, coef0=0.0, degree=1, epsilon=0.02, gamma='auto',\n",
      "  kernel='linear', max_iter=-1, shrinking=True, tol=0.001, verbose=False)\n"
     ]
    }
   ],
   "source": [
    "from sklearn.svm import SVR\n",
    "svr_params = {\n",
    "    'kernel': ['linear', 'poly', 'rbf'],\n",
    "    'degree': [1, 2, 3, 4, 5],\n",
    "    'C': [0.01, 0.1, 1],\n",
    "    'epsilon': [0.001, 0.02, 0.07]\n",
    "}\n",
    "svr = SVR()\n",
    "grid_svr = GridSearchCV(svr, svr_params, cv=10)\n",
    "grid_svr.fit(X_train, y_train)\n",
    "print(grid_svr.best_score_)\n",
    "print(grid_svr.best_params_)\n",
    "print(grid_svr.best_estimator_)"
   ]
  },
  {
   "cell_type": "code",
   "execution_count": 77,
   "metadata": {},
   "outputs": [
    {
     "name": "stdout",
     "output_type": "stream",
     "text": [
      "0.7574546909647275\n",
      "{'algorithm': 'auto', 'n_neighbors': 3, 'weights': 'distance'}\n",
      "KNeighborsRegressor(algorithm='auto', leaf_size=30, metric='minkowski',\n",
      "          metric_params=None, n_jobs=1, n_neighbors=3, p=2,\n",
      "          weights='distance')\n"
     ]
    }
   ],
   "source": [
    "#KNeighborsRegressor\n",
    "from sklearn.neighbors import KNeighborsRegressor\n",
    "knr_params = {\n",
    "    'n_neighbors': np.arange(1, 10),\n",
    "    'weights': ['uniform', 'distance'],\n",
    "    'algorithm': ['auto', 'ball_tree', 'kd_tree', 'brute']\n",
    "}\n",
    "knr = KNeighborsRegressor()\n",
    "grid_knr = GridSearchCV(knr, knr_params, cv=10)\n",
    "grid_knr.fit(X_train, y_train)\n",
    "print(grid_knr.best_score_)\n",
    "print(grid_knr.best_params_)\n",
    "print(grid_knr.best_estimator_)"
   ]
  },
  {
   "cell_type": "code",
   "execution_count": 83,
   "metadata": {},
   "outputs": [
    {
     "name": "stdout",
     "output_type": "stream",
     "text": [
      "linear CV Accuracy: 0.7081721896416117 Validation Accuracy: 0.77052493403201\n",
      "svr CV Accuracy: 0.6683272642188113 Validation Accuracy: 0.74736282166907\n",
      "tree CV Accuracy: 0.8096309061654838 Validation Accuracy: 0.9493278103847537\n",
      "neighbors CV Accuracy: 0.7574546909647275 Validation Accuracy: 0.8206513036952611\n",
      "randforest CV Accuracy: 0.8684338038562786 Validation Accuracy: 0.9207238383752595\n"
     ]
    }
   ],
   "source": [
    "#сравним результаты на валидационной выборке\n",
    "estimators = {\n",
    "    'linear': grid_lr,\n",
    "    'svr': grid_svr,\n",
    "    'tree': grid_dtr,\n",
    "    'neighbors': grid_knr,\n",
    "    'randforest': grid_rfr\n",
    "}\n",
    "for k in estimators:\n",
    "    v = estimators[k]\n",
    "    print(k, 'CV Accuracy:', v.best_score_, 'Validation Accuracy:', v.best_estimator_.score(X_valid, y_valid))\n",
    "    "
   ]
  }
 ],
 "metadata": {
  "kernelspec": {
   "display_name": "Python 3",
   "language": "python",
   "name": "python3"
  },
  "language_info": {
   "codemirror_mode": {
    "name": "ipython",
    "version": 3
   },
   "file_extension": ".py",
   "mimetype": "text/x-python",
   "name": "python",
   "nbconvert_exporter": "python",
   "pygments_lexer": "ipython3",
   "version": "3.7.0"
  }
 },
 "nbformat": 4,
 "nbformat_minor": 2
}
