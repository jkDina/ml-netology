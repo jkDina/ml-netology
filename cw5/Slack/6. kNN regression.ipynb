{
 "cells": [
  {
   "cell_type": "markdown",
   "metadata": {},
   "source": [
    "## Пример решения задачи регрессии"
   ]
  },
  {
   "cell_type": "code",
   "execution_count": 1,
   "metadata": {
    "ExecuteTime": {
     "end_time": "2019-02-01T15:37:16.329801Z",
     "start_time": "2019-02-01T15:37:15.558138Z"
    }
   },
   "outputs": [],
   "source": [
    "import numpy as np\n",
    "import matplotlib.pyplot as plt\n",
    "from sklearn import neighbors"
   ]
  },
  {
   "cell_type": "code",
   "execution_count": 2,
   "metadata": {
    "ExecuteTime": {
     "end_time": "2019-02-01T15:37:16.349263Z",
     "start_time": "2019-02-01T15:37:16.343749Z"
    }
   },
   "outputs": [],
   "source": [
    "# получим столбец чисел, равномерно распределенных на интервале [0, 1) и упорядоченных по возрастанию\n",
    "X = np.sort( 5 * np.random.rand(40, 1), axis = 0 )"
   ]
  },
  {
   "cell_type": "code",
   "execution_count": 3,
   "metadata": {
    "ExecuteTime": {
     "end_time": "2019-02-01T15:37:16.368190Z",
     "start_time": "2019-02-01T15:37:16.362041Z"
    }
   },
   "outputs": [
    {
     "data": {
      "text/plain": [
       "array([[0.04375535],\n",
       "       [0.21837477],\n",
       "       [0.43727493],\n",
       "       [0.4792861 ],\n",
       "       [0.54031807]])"
      ]
     },
     "execution_count": 3,
     "metadata": {},
     "output_type": "execute_result"
    }
   ],
   "source": [
    "X[:5]"
   ]
  },
  {
   "cell_type": "code",
   "execution_count": 4,
   "metadata": {
    "ExecuteTime": {
     "end_time": "2019-02-01T15:37:16.541564Z",
     "start_time": "2019-02-01T15:37:16.536494Z"
    }
   },
   "outputs": [
    {
     "data": {
      "text/plain": [
       "array([ 0.04374139,  0.21664328,  0.42347237,  0.46114583,  0.51440878,\n",
       "        0.63786372,  0.73305547,  0.78838892,  0.83991434,  0.84230841,\n",
       "        0.87704824,  0.90389761,  0.92807954,  0.99315775,  0.87835104,\n",
       "        0.65763193,  0.64016587,  0.54503256,  0.49301194,  0.49001368,\n",
       "        0.40591014,  0.32610303,  0.12471352, -0.18827987, -0.19169635,\n",
       "       -0.20197775, -0.21072055, -0.24734985, -0.26896286, -0.27995672,\n",
       "       -0.49238053, -0.65083905, -0.77019456, -0.82033087, -0.90568242,\n",
       "       -0.94751007, -0.97305797, -0.999936  , -0.99577238, -0.98093078])"
      ]
     },
     "execution_count": 4,
     "metadata": {},
     "output_type": "execute_result"
    }
   ],
   "source": [
    "# зададим какую-нибудь функцию\n",
    "# функция ravel() применена, чтобы преобразовать вложенный лист np.sin( X ) в простой массив\n",
    "y = np.sin( X ).ravel()\n",
    "y"
   ]
  },
  {
   "cell_type": "code",
   "execution_count": 5,
   "metadata": {
    "ExecuteTime": {
     "end_time": "2019-02-01T15:37:16.853477Z",
     "start_time": "2019-02-01T15:37:16.848956Z"
    }
   },
   "outputs": [
    {
     "data": {
      "text/plain": [
       "array([[0.04374139],\n",
       "       [0.21664328],\n",
       "       [0.42347237],\n",
       "       [0.46114583],\n",
       "       [0.51440878]])"
      ]
     },
     "execution_count": 5,
     "metadata": {},
     "output_type": "execute_result"
    }
   ],
   "source": [
    "np.sin( X )[:5]"
   ]
  },
  {
   "cell_type": "code",
   "execution_count": 6,
   "metadata": {
    "ExecuteTime": {
     "end_time": "2019-02-01T15:37:17.360610Z",
     "start_time": "2019-02-01T15:37:17.224969Z"
    }
   },
   "outputs": [
    {
     "data": {
      "image/png": "[encoded data removed]",
      "text/plain": [
       "<Figure size 432x288 with 1 Axes>"
      ]
     },
     "metadata": {
      "needs_background": "light"
     },
     "output_type": "display_data"
    }
   ],
   "source": [
    "plt.plot( X, y )\n",
    "plt.show()"
   ]
  },
  {
   "cell_type": "code",
   "execution_count": 7,
   "metadata": {
    "ExecuteTime": {
     "end_time": "2019-02-01T15:37:17.566225Z",
     "start_time": "2019-02-01T15:37:17.563284Z"
    }
   },
   "outputs": [],
   "source": [
    "# добавим шум к зависимой переменной\n",
    "# к каждому пятому элементу добавляем случайное число\n",
    "y[::5] += 1 * ( 0.5 - np.random.rand( 8 ) )"
   ]
  },
  {
   "cell_type": "code",
   "execution_count": 8,
   "metadata": {
    "ExecuteTime": {
     "end_time": "2019-02-01T15:37:18.082808Z",
     "start_time": "2019-02-01T15:37:17.937688Z"
    }
   },
   "outputs": [
    {
     "data": {
      "image/png": "[encoded data removed]",
      "text/plain": [
       "<Figure size 432x288 with 1 Axes>"
      ]
     },
     "metadata": {
      "needs_background": "light"
     },
     "output_type": "display_data"
    }
   ],
   "source": [
    "plt.plot( X, y )\n",
    "plt.show()"
   ]
  },
  {
   "cell_type": "code",
   "execution_count": 9,
   "metadata": {
    "ExecuteTime": {
     "end_time": "2019-02-01T15:37:18.342086Z",
     "start_time": "2019-02-01T15:37:18.339341Z"
    }
   },
   "outputs": [],
   "source": [
    "# определим набор значений, на которых надо будет делать предсказания\n",
    "T = np.linspace( 0, 5, 500 )[:, np.newaxis] # 500 точек в интервале от 0 до 5"
   ]
  },
  {
   "cell_type": "code",
   "execution_count": 10,
   "metadata": {
    "ExecuteTime": {
     "end_time": "2019-02-01T15:37:18.622012Z",
     "start_time": "2019-02-01T15:37:18.617437Z"
    }
   },
   "outputs": [
    {
     "data": {
      "text/plain": [
       "array([[0.        ],\n",
       "       [0.01002004],\n",
       "       [0.02004008],\n",
       "       [0.03006012],\n",
       "       [0.04008016]])"
      ]
     },
     "execution_count": 10,
     "metadata": {},
     "output_type": "execute_result"
    }
   ],
   "source": [
    "T[:5]"
   ]
  },
  {
   "cell_type": "code",
   "execution_count": 11,
   "metadata": {
    "ExecuteTime": {
     "end_time": "2019-02-01T15:37:19.069227Z",
     "start_time": "2019-02-01T15:37:19.066549Z"
    }
   },
   "outputs": [],
   "source": [
    "# задаем количество соседей, которое будем учитывать в KNN\n",
    "n_neighbors = 5"
   ]
  },
  {
   "cell_type": "code",
   "execution_count": 12,
   "metadata": {
    "ExecuteTime": {
     "end_time": "2019-02-01T15:37:19.376043Z",
     "start_time": "2019-02-01T15:37:19.371400Z"
    }
   },
   "outputs": [],
   "source": [
    "knn = neighbors.KNeighborsRegressor( n_neighbors, weights = 'uniform' )\n",
    "y_ = knn.fit( X, y ).predict( T )"
   ]
  },
  {
   "cell_type": "code",
   "execution_count": 13,
   "metadata": {
    "ExecuteTime": {
     "end_time": "2019-02-01T15:37:19.918761Z",
     "start_time": "2019-02-01T15:37:19.782939Z"
    }
   },
   "outputs": [
    {
     "data": {
      "image/png": "[encoded data removed]",
      "text/plain": [
       "<Figure size 432x288 with 1 Axes>"
      ]
     },
     "metadata": {
      "needs_background": "light"
     },
     "output_type": "display_data"
    }
   ],
   "source": [
    "plt.scatter(X, y, c='k', label='data')\n",
    "plt.plot(T, y_, c='g', label='prediction')\n",
    "plt.axis('tight')\n",
    "plt.legend()\n",
    "plt.title(\"KNeighborsRegressor (k = %i, weights = '%s')\" % (n_neighbors, 'uniform'))\n",
    "plt.show()"
   ]
  },
  {
   "cell_type": "markdown",
   "metadata": {},
   "source": [
    "Для варианта с весами видно сильное влияние расстояния"
   ]
  },
  {
   "cell_type": "code",
   "execution_count": 14,
   "metadata": {
    "ExecuteTime": {
     "end_time": "2019-02-01T15:37:20.691311Z",
     "start_time": "2019-02-01T15:37:20.553200Z"
    }
   },
   "outputs": [
    {
     "data": {
      "image/png": "[encoded data removed]",
      "text/plain": [
       "<Figure size 432x288 with 1 Axes>"
      ]
     },
     "metadata": {
      "needs_background": "light"
     },
     "output_type": "display_data"
    }
   ],
   "source": [
    "knn = neighbors.KNeighborsRegressor( n_neighbors, weights = 'distance' )\n",
    "y_ = knn.fit( X, y ).predict( T )\n",
    "\n",
    "plt.scatter(X, y, c='k', label='data')\n",
    "plt.plot(T, y_, c='g', label='prediction')\n",
    "plt.axis('tight')\n",
    "plt.legend()\n",
    "plt.title(\"KNeighborsRegressor (k = %i, weights = '%s')\" % (n_neighbors, 'distance'))\n",
    "plt.show()"
   ]
  },
  {
   "cell_type": "code",
   "execution_count": null,
   "metadata": {},
   "outputs": [],
   "source": []
  },
  {
   "cell_type": "code",
   "execution_count": null,
   "metadata": {},
   "outputs": [],
   "source": []
  }
 ],
 "metadata": {
  "kernelspec": {
   "display_name": "Python 3",
   "language": "python",
   "name": "python3"
  },
  "language_info": {
   "codemirror_mode": {
    "name": "ipython",
    "version": 3
   },
   "file_extension": ".py",
   "mimetype": "text/x-python",
   "name": "python",
   "nbconvert_exporter": "python",
   "pygments_lexer": "ipython3",
   "version": "3.6.6"
  },
  "varInspector": {
   "cols": {
    "lenName": 16,
    "lenType": 16,
    "lenVar": 40
   },
   "kernels_config": {
    "python": {
     "delete_cmd_postfix": "",
     "delete_cmd_prefix": "del ",
     "library": "var_list.py",
     "varRefreshCmd": "print(var_dic_list())"
    },
    "r": {
     "delete_cmd_postfix": ") ",
     "delete_cmd_prefix": "rm(",
     "library": "var_list.r",
     "varRefreshCmd": "cat(var_dic_list()) "
    }
   },
   "types_to_exclude": [
    "module",
    "function",
    "builtin_function_or_method",
    "instance",
    "_Feature"
   ],
   "window_display": false
  }
 },
 "nbformat": 4,
 "nbformat_minor": 2
}
