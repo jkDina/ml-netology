{
 "cells": [
  {
   "cell_type": "markdown",
   "metadata": {},
   "source": [
    "# Пример использования коэффициента Жаккара"
   ]
  },
  {
   "cell_type": "code",
   "execution_count": 1,
   "metadata": {
    "ExecuteTime": {
     "end_time": "2019-02-01T15:36:43.998450Z",
     "start_time": "2019-02-01T15:36:43.610467Z"
    }
   },
   "outputs": [],
   "source": [
    "import pandas as pd"
   ]
  },
  {
   "cell_type": "markdown",
   "metadata": {},
   "source": [
    "Данные по ценам на товары"
   ]
  },
  {
   "cell_type": "code",
   "execution_count": 2,
   "metadata": {
    "ExecuteTime": {
     "end_time": "2019-02-01T15:36:44.493463Z",
     "start_time": "2019-02-01T15:36:44.459249Z"
    }
   },
   "outputs": [
    {
     "data": {
      "text/html": [
       "<div>\n",
       "<style scoped>\n",
       "    .dataframe tbody tr th:only-of-type {\n",
       "        vertical-align: middle;\n",
       "    }\n",
       "\n",
       "    .dataframe tbody tr th {\n",
       "        vertical-align: top;\n",
       "    }\n",
       "\n",
       "    .dataframe thead th {\n",
       "        text-align: right;\n",
       "    }\n",
       "</style>\n",
       "<table border=\"1\" class=\"dataframe\">\n",
       "  <thead>\n",
       "    <tr style=\"text-align: right;\">\n",
       "      <th></th>\n",
       "      <th>id</th>\n",
       "      <th>price</th>\n",
       "    </tr>\n",
       "  </thead>\n",
       "  <tbody>\n",
       "    <tr>\n",
       "      <th>0</th>\n",
       "      <td>b000jz4hqo</td>\n",
       "      <td>0.00</td>\n",
       "    </tr>\n",
       "    <tr>\n",
       "      <th>1</th>\n",
       "      <td>b0006zf55o</td>\n",
       "      <td>0.00</td>\n",
       "    </tr>\n",
       "    <tr>\n",
       "      <th>2</th>\n",
       "      <td>b00004tkvy</td>\n",
       "      <td>0.00</td>\n",
       "    </tr>\n",
       "    <tr>\n",
       "      <th>3</th>\n",
       "      <td>b000g80lqo</td>\n",
       "      <td>599.99</td>\n",
       "    </tr>\n",
       "    <tr>\n",
       "      <th>4</th>\n",
       "      <td>b0006se5bq</td>\n",
       "      <td>99.99</td>\n",
       "    </tr>\n",
       "  </tbody>\n",
       "</table>\n",
       "</div>"
      ],
      "text/plain": [
       "           id   price\n",
       "0  b000jz4hqo    0.00\n",
       "1  b0006zf55o    0.00\n",
       "2  b00004tkvy    0.00\n",
       "3  b000g80lqo  599.99\n",
       "4  b0006se5bq   99.99"
      ]
     },
     "execution_count": 2,
     "metadata": {},
     "output_type": "execute_result"
    }
   ],
   "source": [
    "prices = pd.read_csv( 'ids_and_prices.csv' )\n",
    "prices.head()"
   ]
  },
  {
   "cell_type": "markdown",
   "metadata": {},
   "source": [
    "Описания товаров"
   ]
  },
  {
   "cell_type": "code",
   "execution_count": 3,
   "metadata": {
    "ExecuteTime": {
     "end_time": "2019-02-01T15:36:45.345066Z",
     "start_time": "2019-02-01T15:36:45.326112Z"
    }
   },
   "outputs": [
    {
     "data": {
      "text/html": [
       "<div>\n",
       "<style scoped>\n",
       "    .dataframe tbody tr th:only-of-type {\n",
       "        vertical-align: middle;\n",
       "    }\n",
       "\n",
       "    .dataframe tbody tr th {\n",
       "        vertical-align: top;\n",
       "    }\n",
       "\n",
       "    .dataframe thead th {\n",
       "        text-align: right;\n",
       "    }\n",
       "</style>\n",
       "<table border=\"1\" class=\"dataframe\">\n",
       "  <thead>\n",
       "    <tr style=\"text-align: right;\">\n",
       "      <th></th>\n",
       "      <th>id</th>\n",
       "      <th>name</th>\n",
       "      <th>description</th>\n",
       "      <th>manufacturer</th>\n",
       "    </tr>\n",
       "  </thead>\n",
       "  <tbody>\n",
       "    <tr>\n",
       "      <th>0</th>\n",
       "      <td>b000jz4hqo</td>\n",
       "      <td>clickart 950000 - premier image pack (dvd-rom)</td>\n",
       "      <td>massive collection of images &amp; fonts for all y...</td>\n",
       "      <td>NaN</td>\n",
       "    </tr>\n",
       "    <tr>\n",
       "      <th>1</th>\n",
       "      <td>b00004tkvy</td>\n",
       "      <td>the beginners bible: noah's ark activity cente...</td>\n",
       "      <td>NaN</td>\n",
       "      <td>NaN</td>\n",
       "    </tr>\n",
       "    <tr>\n",
       "      <th>2</th>\n",
       "      <td>b000g80lqo</td>\n",
       "      <td>sage (ptree) - vernfp2007rt - premium accounti...</td>\n",
       "      <td>if you're like most nonprofit organizations yo...</td>\n",
       "      <td>NaN</td>\n",
       "    </tr>\n",
       "    <tr>\n",
       "      <th>3</th>\n",
       "      <td>b0006se5bq</td>\n",
       "      <td>singing coach unlimited - electronic learning ...</td>\n",
       "      <td>learn to sing with the help of a patented real...</td>\n",
       "      <td>NaN</td>\n",
       "    </tr>\n",
       "    <tr>\n",
       "      <th>4</th>\n",
       "      <td>b00021xhzw</td>\n",
       "      <td>adobe software 22070152 after effects 6.5 pbupgrd</td>\n",
       "      <td>adobe after effects pb 6.5 win upgrade.standar...</td>\n",
       "      <td>NaN</td>\n",
       "    </tr>\n",
       "  </tbody>\n",
       "</table>\n",
       "</div>"
      ],
      "text/plain": [
       "           id                                               name  \\\n",
       "0  b000jz4hqo     clickart 950000 - premier image pack (dvd-rom)   \n",
       "1  b00004tkvy  the beginners bible: noah's ark activity cente...   \n",
       "2  b000g80lqo  sage (ptree) - vernfp2007rt - premium accounti...   \n",
       "3  b0006se5bq  singing coach unlimited - electronic learning ...   \n",
       "4  b00021xhzw  adobe software 22070152 after effects 6.5 pbupgrd   \n",
       "\n",
       "                                         description manufacturer  \n",
       "0  massive collection of images & fonts for all y...          NaN  \n",
       "1                                                NaN          NaN  \n",
       "2  if you're like most nonprofit organizations yo...          NaN  \n",
       "3  learn to sing with the help of a patented real...          NaN  \n",
       "4  adobe after effects pb 6.5 win upgrade.standar...          NaN  "
      ]
     },
     "execution_count": 3,
     "metadata": {},
     "output_type": "execute_result"
    }
   ],
   "source": [
    "details = pd.read_csv( 'ids_and_details.csv' )\n",
    "details.head()"
   ]
  },
  {
   "cell_type": "markdown",
   "metadata": {},
   "source": [
    "Проверяем на наличие дубликатов\n",
    "\n",
    "Они есть"
   ]
  },
  {
   "cell_type": "code",
   "execution_count": 4,
   "metadata": {
    "ExecuteTime": {
     "end_time": "2019-02-01T15:36:45.699768Z",
     "start_time": "2019-02-01T15:36:45.690358Z"
    }
   },
   "outputs": [
    {
     "data": {
      "text/plain": [
       "b00006jo4g    5\n",
       "b00007g3ai    4\n",
       "b0001wn16m    4\n",
       "b0009i5sgy    4\n",
       "b000ofnrhy    4\n",
       "Name: id, dtype: int64"
      ]
     },
     "execution_count": 4,
     "metadata": {},
     "output_type": "execute_result"
    }
   ],
   "source": [
    "details['id'].value_counts().sort_values( ascending = False ).head()"
   ]
  },
  {
   "cell_type": "code",
   "execution_count": 5,
   "metadata": {
    "ExecuteTime": {
     "end_time": "2019-02-01T15:36:45.875529Z",
     "start_time": "2019-02-01T15:36:45.867852Z"
    }
   },
   "outputs": [],
   "source": [
    "details.drop_duplicates( subset = 'id', keep = 'first', inplace = True )"
   ]
  },
  {
   "cell_type": "code",
   "execution_count": 6,
   "metadata": {
    "ExecuteTime": {
     "end_time": "2019-02-01T15:36:46.040313Z",
     "start_time": "2019-02-01T15:36:46.033448Z"
    }
   },
   "outputs": [
    {
     "data": {
      "text/plain": [
       "b000v7vz1u    1\n",
       "b000h22rbg    1\n",
       "b000ndicqi    1\n",
       "b000hed3fs    1\n",
       "b0001nm7zm    1\n",
       "Name: id, dtype: int64"
      ]
     },
     "execution_count": 6,
     "metadata": {},
     "output_type": "execute_result"
    }
   ],
   "source": [
    "# проверяем, что дубликатов нет\n",
    "\n",
    "details['id'].value_counts().sort_values( ascending = False ).head()"
   ]
  },
  {
   "cell_type": "code",
   "execution_count": 7,
   "metadata": {
    "ExecuteTime": {
     "end_time": "2019-02-01T15:36:46.219003Z",
     "start_time": "2019-02-01T15:36:46.209169Z"
    }
   },
   "outputs": [
    {
     "data": {
      "text/html": [
       "<div>\n",
       "<style scoped>\n",
       "    .dataframe tbody tr th:only-of-type {\n",
       "        vertical-align: middle;\n",
       "    }\n",
       "\n",
       "    .dataframe tbody tr th {\n",
       "        vertical-align: top;\n",
       "    }\n",
       "\n",
       "    .dataframe thead th {\n",
       "        text-align: right;\n",
       "    }\n",
       "</style>\n",
       "<table border=\"1\" class=\"dataframe\">\n",
       "  <thead>\n",
       "    <tr style=\"text-align: right;\">\n",
       "      <th></th>\n",
       "      <th>id</th>\n",
       "      <th>name</th>\n",
       "      <th>description</th>\n",
       "      <th>manufacturer</th>\n",
       "    </tr>\n",
       "  </thead>\n",
       "  <tbody>\n",
       "    <tr>\n",
       "      <th>0</th>\n",
       "      <td>b000jz4hqo</td>\n",
       "      <td>clickart 950000 - premier image pack (dvd-rom)</td>\n",
       "      <td>massive collection of images &amp; fonts for all y...</td>\n",
       "      <td>NaN</td>\n",
       "    </tr>\n",
       "    <tr>\n",
       "      <th>1</th>\n",
       "      <td>b00004tkvy</td>\n",
       "      <td>the beginners bible: noah's ark activity cente...</td>\n",
       "      <td></td>\n",
       "      <td>NaN</td>\n",
       "    </tr>\n",
       "    <tr>\n",
       "      <th>2</th>\n",
       "      <td>b000g80lqo</td>\n",
       "      <td>sage (ptree) - vernfp2007rt - premium accounti...</td>\n",
       "      <td>if you're like most nonprofit organizations yo...</td>\n",
       "      <td>NaN</td>\n",
       "    </tr>\n",
       "    <tr>\n",
       "      <th>3</th>\n",
       "      <td>b0006se5bq</td>\n",
       "      <td>singing coach unlimited - electronic learning ...</td>\n",
       "      <td>learn to sing with the help of a patented real...</td>\n",
       "      <td>NaN</td>\n",
       "    </tr>\n",
       "    <tr>\n",
       "      <th>4</th>\n",
       "      <td>b00021xhzw</td>\n",
       "      <td>adobe software 22070152 after effects 6.5 pbupgrd</td>\n",
       "      <td>adobe after effects pb 6.5 win upgrade.standar...</td>\n",
       "      <td>NaN</td>\n",
       "    </tr>\n",
       "  </tbody>\n",
       "</table>\n",
       "</div>"
      ],
      "text/plain": [
       "           id                                               name  \\\n",
       "0  b000jz4hqo     clickart 950000 - premier image pack (dvd-rom)   \n",
       "1  b00004tkvy  the beginners bible: noah's ark activity cente...   \n",
       "2  b000g80lqo  sage (ptree) - vernfp2007rt - premium accounti...   \n",
       "3  b0006se5bq  singing coach unlimited - electronic learning ...   \n",
       "4  b00021xhzw  adobe software 22070152 after effects 6.5 pbupgrd   \n",
       "\n",
       "                                         description manufacturer  \n",
       "0  massive collection of images & fonts for all y...          NaN  \n",
       "1                                                             NaN  \n",
       "2  if you're like most nonprofit organizations yo...          NaN  \n",
       "3  learn to sing with the help of a patented real...          NaN  \n",
       "4  adobe after effects pb 6.5 win upgrade.standar...          NaN  "
      ]
     },
     "execution_count": 7,
     "metadata": {},
     "output_type": "execute_result"
    }
   ],
   "source": [
    "# для пустых описаний NaN подставим пустую строку\n",
    "# это изменит тип ячейки (с числовой на строковую) и позволит избежать в дальнейшем ошибки\n",
    "\n",
    "details['description'].fillna( '', inplace = True )\n",
    "details.head()"
   ]
  },
  {
   "cell_type": "markdown",
   "metadata": {},
   "source": [
    "Совмещаем данные по описаниям и ценам"
   ]
  },
  {
   "cell_type": "code",
   "execution_count": 8,
   "metadata": {
    "ExecuteTime": {
     "end_time": "2019-02-01T15:36:46.545253Z",
     "start_time": "2019-02-01T15:36:46.529099Z"
    }
   },
   "outputs": [
    {
     "data": {
      "text/html": [
       "<div>\n",
       "<style scoped>\n",
       "    .dataframe tbody tr th:only-of-type {\n",
       "        vertical-align: middle;\n",
       "    }\n",
       "\n",
       "    .dataframe tbody tr th {\n",
       "        vertical-align: top;\n",
       "    }\n",
       "\n",
       "    .dataframe thead th {\n",
       "        text-align: right;\n",
       "    }\n",
       "</style>\n",
       "<table border=\"1\" class=\"dataframe\">\n",
       "  <thead>\n",
       "    <tr style=\"text-align: right;\">\n",
       "      <th></th>\n",
       "      <th>id</th>\n",
       "      <th>name</th>\n",
       "      <th>description</th>\n",
       "      <th>manufacturer</th>\n",
       "      <th>price</th>\n",
       "    </tr>\n",
       "  </thead>\n",
       "  <tbody>\n",
       "    <tr>\n",
       "      <th>0</th>\n",
       "      <td>b000jz4hqo</td>\n",
       "      <td>clickart 950000 - premier image pack (dvd-rom)</td>\n",
       "      <td>massive collection of images &amp; fonts for all y...</td>\n",
       "      <td>NaN</td>\n",
       "      <td>0.00</td>\n",
       "    </tr>\n",
       "    <tr>\n",
       "      <th>1</th>\n",
       "      <td>b00004tkvy</td>\n",
       "      <td>the beginners bible: noah's ark activity cente...</td>\n",
       "      <td></td>\n",
       "      <td>NaN</td>\n",
       "      <td>0.00</td>\n",
       "    </tr>\n",
       "    <tr>\n",
       "      <th>2</th>\n",
       "      <td>b000g80lqo</td>\n",
       "      <td>sage (ptree) - vernfp2007rt - premium accounti...</td>\n",
       "      <td>if you're like most nonprofit organizations yo...</td>\n",
       "      <td>NaN</td>\n",
       "      <td>599.99</td>\n",
       "    </tr>\n",
       "    <tr>\n",
       "      <th>3</th>\n",
       "      <td>b0006se5bq</td>\n",
       "      <td>singing coach unlimited - electronic learning ...</td>\n",
       "      <td>learn to sing with the help of a patented real...</td>\n",
       "      <td>NaN</td>\n",
       "      <td>99.99</td>\n",
       "    </tr>\n",
       "    <tr>\n",
       "      <th>4</th>\n",
       "      <td>b00021xhzw</td>\n",
       "      <td>adobe software 22070152 after effects 6.5 pbupgrd</td>\n",
       "      <td>adobe after effects pb 6.5 win upgrade.standar...</td>\n",
       "      <td>NaN</td>\n",
       "      <td>499.99</td>\n",
       "    </tr>\n",
       "  </tbody>\n",
       "</table>\n",
       "</div>"
      ],
      "text/plain": [
       "           id                                               name  \\\n",
       "0  b000jz4hqo     clickart 950000 - premier image pack (dvd-rom)   \n",
       "1  b00004tkvy  the beginners bible: noah's ark activity cente...   \n",
       "2  b000g80lqo  sage (ptree) - vernfp2007rt - premium accounti...   \n",
       "3  b0006se5bq  singing coach unlimited - electronic learning ...   \n",
       "4  b00021xhzw  adobe software 22070152 after effects 6.5 pbupgrd   \n",
       "\n",
       "                                         description manufacturer   price  \n",
       "0  massive collection of images & fonts for all y...          NaN    0.00  \n",
       "1                                                             NaN    0.00  \n",
       "2  if you're like most nonprofit organizations yo...          NaN  599.99  \n",
       "3  learn to sing with the help of a patented real...          NaN   99.99  \n",
       "4  adobe after effects pb 6.5 win upgrade.standar...          NaN  499.99  "
      ]
     },
     "execution_count": 8,
     "metadata": {},
     "output_type": "execute_result"
    }
   ],
   "source": [
    "data = details.merge( prices, on = 'id', how = 'left' )\n",
    "data.head()"
   ]
  },
  {
   "cell_type": "code",
   "execution_count": 9,
   "metadata": {
    "ExecuteTime": {
     "end_time": "2019-02-01T15:36:46.694831Z",
     "start_time": "2019-02-01T15:36:46.690262Z"
    }
   },
   "outputs": [
    {
     "data": {
      "text/plain": [
       "True"
      ]
     },
     "execution_count": 9,
     "metadata": {},
     "output_type": "execute_result"
    }
   ],
   "source": [
    "len(data) == len(details)"
   ]
  },
  {
   "cell_type": "markdown",
   "metadata": {},
   "source": [
    "### Поиск близких описаний"
   ]
  },
  {
   "cell_type": "markdown",
   "metadata": {},
   "source": [
    "Допустим, мы добавили к нашей таблице новый товар с описанием. Как проверить, что добавленный товар имеет более менее \"уникальное описание\"? \n",
    "\n",
    "Например, мы можем для описания каждого товара из таблицы посчитать количество слов, совпадающих с описанием нового товара. Для удобства для каждого описания из таблицы будем брать долю одинаковых слов от количества слов в описании нового товара.\n",
    "\n",
    "Таким образом, если описания товаров сильно близки, то наша доля будет приближаться к 100%. Если описание товара из таблицы не имеет общих слов с новым, то доля будет равна 0. Для удобства отсортируем конечную таблицу по убыванию нашей метрики близости."
   ]
  },
  {
   "cell_type": "code",
   "execution_count": 10,
   "metadata": {
    "ExecuteTime": {
     "end_time": "2019-02-01T15:36:47.158206Z",
     "start_time": "2019-02-01T15:36:47.153595Z"
    }
   },
   "outputs": [
    {
     "data": {
      "text/plain": [
       "'encore software 10741 : new! the print shop 22 deluxe offers the best in total personal creativity. 350000+ images & graphics plus 20000+ project templates! packed with new features and tools you have everything you need for satisfy your creative ...'"
      ]
     },
     "execution_count": 10,
     "metadata": {},
     "output_type": "execute_result"
    }
   ],
   "source": [
    "# пусть \"новым товаром\" будет один из товаров в нашей таблице\n",
    "\n",
    "newText = 'encore software 10741 : new! the print shop 22 deluxe offers the best in total personal creativity. 350000+ images & graphics plus 20000+ project templates! packed with new features and tools you have everything you need for satisfy your creative ...'\n",
    "newText"
   ]
  },
  {
   "cell_type": "code",
   "execution_count": 11,
   "metadata": {
    "ExecuteTime": {
     "end_time": "2019-02-01T15:36:47.326288Z",
     "start_time": "2019-02-01T15:36:47.321519Z"
    }
   },
   "outputs": [
    {
     "data": {
      "text/plain": [
       "{'&',\n",
       " '...',\n",
       " '10741',\n",
       " '20000+',\n",
       " '22',\n",
       " '350000+',\n",
       " ':',\n",
       " 'and',\n",
       " 'best',\n",
       " 'creative',\n",
       " 'creativity.',\n",
       " 'deluxe',\n",
       " 'encore',\n",
       " 'everything',\n",
       " 'features',\n",
       " 'for',\n",
       " 'graphics',\n",
       " 'have',\n",
       " 'images',\n",
       " 'in',\n",
       " 'need',\n",
       " 'new',\n",
       " 'new!',\n",
       " 'offers',\n",
       " 'packed',\n",
       " 'personal',\n",
       " 'plus',\n",
       " 'print',\n",
       " 'project',\n",
       " 'satisfy',\n",
       " 'shop',\n",
       " 'software',\n",
       " 'templates!',\n",
       " 'the',\n",
       " 'tools',\n",
       " 'total',\n",
       " 'with',\n",
       " 'you',\n",
       " 'your'}"
      ]
     },
     "execution_count": 11,
     "metadata": {},
     "output_type": "execute_result"
    }
   ],
   "source": [
    "# для сравнения описаний пословно разобьем наш текст на слова\n",
    "\n",
    "newTextSplit = set( newText.split(' ') )\n",
    "newTextSplit"
   ]
  },
  {
   "cell_type": "code",
   "execution_count": 12,
   "metadata": {
    "ExecuteTime": {
     "end_time": "2019-02-01T15:36:47.477437Z",
     "start_time": "2019-02-01T15:36:47.473311Z"
    }
   },
   "outputs": [
    {
     "data": {
      "text/plain": [
       "39"
      ]
     },
     "execution_count": 12,
     "metadata": {},
     "output_type": "execute_result"
    }
   ],
   "source": [
    "# мы хотим в итоге считать отношение общих слов двух описаний к количеству слов в описании нового товара text\n",
    "# в нашем примере 39 слов\n",
    "\n",
    "len( newTextSplit ) "
   ]
  },
  {
   "cell_type": "markdown",
   "metadata": {},
   "source": [
    "Для каждой строки нашей исходной таблицы посчитаем новый столбец similarity. \n",
    "\n",
    "Т. е. для каждого описания из столбца description (data['description']) мы применяем делаем определенное вычисление. Для этого используется метод apply:\n",
    "\n",
    "1. Для каждого описания (назовем его descr) мы получаем список слов в нем - set( descr.split(' ') )\n",
    "2. Затем получаем список общих слов с описанием нового товара - list( set( descr.split(' ') ) & textSplit )\n",
    "3. Считаем длину получившегося пересечения len( list( set( descr.split(' ') ) & textSplit ) )\n",
    "4. Наконец, считаем отношение пересечения к количеству слов в новом описании"
   ]
  },
  {
   "cell_type": "code",
   "execution_count": 13,
   "metadata": {
    "ExecuteTime": {
     "end_time": "2019-02-01T15:36:47.839014Z",
     "start_time": "2019-02-01T15:36:47.834985Z"
    }
   },
   "outputs": [],
   "source": [
    "def countCrossWords( row, newTextSplit ):\n",
    "    \"\"\"\n",
    "    Считаем общее количество слов в описании нового товара newTextSplit и описания текущего товара row['description'].\n",
    "    \n",
    "    newTextSplit имеет вид:\n",
    "    {\n",
    "        '&',\n",
    "        '...',\n",
    "        '10741',\n",
    "        ...\n",
    "        'you',\n",
    "        'your'\n",
    "    }\n",
    "    \n",
    "    row['description'] - просто текст описания очередного товара    \n",
    "    \"\"\"\n",
    "    \n",
    "    # список слов в описании очередного товара\n",
    "    currentDescriptionWordsSet = set( row['description'].split(' ') )\n",
    "    \n",
    "    # список общих слов в описании текущего (row['description']) и нового (newTextSplit) товара\n",
    "    commonWords = currentDescriptionWordsSet & newTextSplit\n",
    "    \n",
    "    return len( commonWords ) / len( newTextSplit )"
   ]
  },
  {
   "cell_type": "markdown",
   "metadata": {},
   "source": [
    "Считаем близость описания к новому товару"
   ]
  },
  {
   "cell_type": "code",
   "execution_count": 14,
   "metadata": {
    "ExecuteTime": {
     "end_time": "2019-02-01T15:36:48.214035Z",
     "start_time": "2019-02-01T15:36:48.176557Z"
    }
   },
   "outputs": [
    {
     "data": {
      "text/html": [
       "<div>\n",
       "<style scoped>\n",
       "    .dataframe tbody tr th:only-of-type {\n",
       "        vertical-align: middle;\n",
       "    }\n",
       "\n",
       "    .dataframe tbody tr th {\n",
       "        vertical-align: top;\n",
       "    }\n",
       "\n",
       "    .dataframe thead th {\n",
       "        text-align: right;\n",
       "    }\n",
       "</style>\n",
       "<table border=\"1\" class=\"dataframe\">\n",
       "  <thead>\n",
       "    <tr style=\"text-align: right;\">\n",
       "      <th></th>\n",
       "      <th>id</th>\n",
       "      <th>name</th>\n",
       "      <th>description</th>\n",
       "      <th>manufacturer</th>\n",
       "      <th>price</th>\n",
       "      <th>similarity</th>\n",
       "    </tr>\n",
       "  </thead>\n",
       "  <tbody>\n",
       "    <tr>\n",
       "      <th>0</th>\n",
       "      <td>b000jz4hqo</td>\n",
       "      <td>clickart 950000 - premier image pack (dvd-rom)</td>\n",
       "      <td>massive collection of images &amp; fonts for all y...</td>\n",
       "      <td>NaN</td>\n",
       "      <td>0.00</td>\n",
       "      <td>0.282051</td>\n",
       "    </tr>\n",
       "    <tr>\n",
       "      <th>1</th>\n",
       "      <td>b00004tkvy</td>\n",
       "      <td>the beginners bible: noah's ark activity cente...</td>\n",
       "      <td></td>\n",
       "      <td>NaN</td>\n",
       "      <td>0.00</td>\n",
       "      <td>0.000000</td>\n",
       "    </tr>\n",
       "    <tr>\n",
       "      <th>2</th>\n",
       "      <td>b000g80lqo</td>\n",
       "      <td>sage (ptree) - vernfp2007rt - premium accounti...</td>\n",
       "      <td>if you're like most nonprofit organizations yo...</td>\n",
       "      <td>NaN</td>\n",
       "      <td>599.99</td>\n",
       "      <td>0.102564</td>\n",
       "    </tr>\n",
       "    <tr>\n",
       "      <th>3</th>\n",
       "      <td>b0006se5bq</td>\n",
       "      <td>singing coach unlimited - electronic learning ...</td>\n",
       "      <td>learn to sing with the help of a patented real...</td>\n",
       "      <td>NaN</td>\n",
       "      <td>99.99</td>\n",
       "      <td>0.102564</td>\n",
       "    </tr>\n",
       "    <tr>\n",
       "      <th>4</th>\n",
       "      <td>b00021xhzw</td>\n",
       "      <td>adobe software 22070152 after effects 6.5 pbupgrd</td>\n",
       "      <td>adobe after effects pb 6.5 win upgrade.standar...</td>\n",
       "      <td>NaN</td>\n",
       "      <td>499.99</td>\n",
       "      <td>0.102564</td>\n",
       "    </tr>\n",
       "  </tbody>\n",
       "</table>\n",
       "</div>"
      ],
      "text/plain": [
       "           id                                               name  \\\n",
       "0  b000jz4hqo     clickart 950000 - premier image pack (dvd-rom)   \n",
       "1  b00004tkvy  the beginners bible: noah's ark activity cente...   \n",
       "2  b000g80lqo  sage (ptree) - vernfp2007rt - premium accounti...   \n",
       "3  b0006se5bq  singing coach unlimited - electronic learning ...   \n",
       "4  b00021xhzw  adobe software 22070152 after effects 6.5 pbupgrd   \n",
       "\n",
       "                                         description manufacturer   price  \\\n",
       "0  massive collection of images & fonts for all y...          NaN    0.00   \n",
       "1                                                             NaN    0.00   \n",
       "2  if you're like most nonprofit organizations yo...          NaN  599.99   \n",
       "3  learn to sing with the help of a patented real...          NaN   99.99   \n",
       "4  adobe after effects pb 6.5 win upgrade.standar...          NaN  499.99   \n",
       "\n",
       "   similarity  \n",
       "0    0.282051  \n",
       "1    0.000000  \n",
       "2    0.102564  \n",
       "3    0.102564  \n",
       "4    0.102564  "
      ]
     },
     "execution_count": 14,
     "metadata": {},
     "output_type": "execute_result"
    }
   ],
   "source": [
    "data['similarity'] = data.apply( countCrossWords, axis = 1, args = (newTextSplit,) )\n",
    "data.head()"
   ]
  },
  {
   "cell_type": "markdown",
   "metadata": {},
   "source": [
    "Посмотрим список товаров с самим близким описанием"
   ]
  },
  {
   "cell_type": "code",
   "execution_count": 15,
   "metadata": {
    "ExecuteTime": {
     "end_time": "2019-02-01T15:36:48.532379Z",
     "start_time": "2019-02-01T15:36:48.519679Z"
    }
   },
   "outputs": [
    {
     "data": {
      "text/html": [
       "<div>\n",
       "<style scoped>\n",
       "    .dataframe tbody tr th:only-of-type {\n",
       "        vertical-align: middle;\n",
       "    }\n",
       "\n",
       "    .dataframe tbody tr th {\n",
       "        vertical-align: top;\n",
       "    }\n",
       "\n",
       "    .dataframe thead th {\n",
       "        text-align: right;\n",
       "    }\n",
       "</style>\n",
       "<table border=\"1\" class=\"dataframe\">\n",
       "  <thead>\n",
       "    <tr style=\"text-align: right;\">\n",
       "      <th></th>\n",
       "      <th>id</th>\n",
       "      <th>name</th>\n",
       "      <th>description</th>\n",
       "      <th>manufacturer</th>\n",
       "      <th>price</th>\n",
       "      <th>similarity</th>\n",
       "    </tr>\n",
       "  </thead>\n",
       "  <tbody>\n",
       "    <tr>\n",
       "      <th>652</th>\n",
       "      <td>b000hed3fi</td>\n",
       "      <td>encore software 10741 - the print shop 22 delu...</td>\n",
       "      <td>encore software 10741 : new! the print shop 22...</td>\n",
       "      <td>NaN</td>\n",
       "      <td>49.95</td>\n",
       "      <td>1.000000</td>\n",
       "    </tr>\n",
       "    <tr>\n",
       "      <th>714</th>\n",
       "      <td>b000b57k4s</td>\n",
       "      <td>encore software 10038 - encore the print shop ...</td>\n",
       "      <td>encore software 10038 : the print shop 21 delu...</td>\n",
       "      <td>NaN</td>\n",
       "      <td>0.00</td>\n",
       "      <td>0.871795</td>\n",
       "    </tr>\n",
       "    <tr>\n",
       "      <th>391</th>\n",
       "      <td>b000aa87go</td>\n",
       "      <td>print shop deluxe 21</td>\n",
       "      <td>overview when you're ready to add a creative t...</td>\n",
       "      <td>NaN</td>\n",
       "      <td>49.99</td>\n",
       "      <td>0.384615</td>\n",
       "    </tr>\n",
       "    <tr>\n",
       "      <th>33</th>\n",
       "      <td>b000h22rbg</td>\n",
       "      <td>the printshop v22 deluxe</td>\n",
       "      <td>overview create professional projects with all...</td>\n",
       "      <td>NaN</td>\n",
       "      <td>49.99</td>\n",
       "      <td>0.333333</td>\n",
       "    </tr>\n",
       "    <tr>\n",
       "      <th>28</th>\n",
       "      <td>b000h22pg8</td>\n",
       "      <td>the printshop pro publisher v22 deluxe dvd-rom</td>\n",
       "      <td>overview create professional projects with all...</td>\n",
       "      <td>NaN</td>\n",
       "      <td>99.99</td>\n",
       "      <td>0.333333</td>\n",
       "    </tr>\n",
       "    <tr>\n",
       "      <th>818</th>\n",
       "      <td>b000gihfyu</td>\n",
       "      <td>encore software 10593 - encore tlc clue finder...</td>\n",
       "      <td>encore software 10593 : build a bevy of sharp ...</td>\n",
       "      <td>NaN</td>\n",
       "      <td>19.99</td>\n",
       "      <td>0.307692</td>\n",
       "    </tr>\n",
       "    <tr>\n",
       "      <th>805</th>\n",
       "      <td>b000fp0k0u</td>\n",
       "      <td>encore software 10478 - encore printmaster v.1...</td>\n",
       "      <td>encore software 10478 : if you've got a passio...</td>\n",
       "      <td>NaN</td>\n",
       "      <td>30.66</td>\n",
       "      <td>0.307692</td>\n",
       "    </tr>\n",
       "    <tr>\n",
       "      <th>768</th>\n",
       "      <td>b000fowht8</td>\n",
       "      <td>encore software 10485 - encore printmaster v.1...</td>\n",
       "      <td>encore software 10485 : if you've got a passio...</td>\n",
       "      <td>NaN</td>\n",
       "      <td>39.99</td>\n",
       "      <td>0.282051</td>\n",
       "    </tr>\n",
       "    <tr>\n",
       "      <th>720</th>\n",
       "      <td>b000i4rmfe</td>\n",
       "      <td>ahead software 70115 - nero 7 ultra edition en...</td>\n",
       "      <td>ahead software 70115 : nero 7 ultra edition en...</td>\n",
       "      <td>NaN</td>\n",
       "      <td>99.99</td>\n",
       "      <td>0.282051</td>\n",
       "    </tr>\n",
       "    <tr>\n",
       "      <th>239</th>\n",
       "      <td>b000gkli0a</td>\n",
       "      <td>encore software 10566 - encore hoyle card game...</td>\n",
       "      <td>encore software 10566 : step up to the best de...</td>\n",
       "      <td>NaN</td>\n",
       "      <td>29.99</td>\n",
       "      <td>0.282051</td>\n",
       "    </tr>\n",
       "  </tbody>\n",
       "</table>\n",
       "</div>"
      ],
      "text/plain": [
       "             id                                               name  \\\n",
       "652  b000hed3fi  encore software 10741 - the print shop 22 delu...   \n",
       "714  b000b57k4s  encore software 10038 - encore the print shop ...   \n",
       "391  b000aa87go                               print shop deluxe 21   \n",
       "33   b000h22rbg                           the printshop v22 deluxe   \n",
       "28   b000h22pg8     the printshop pro publisher v22 deluxe dvd-rom   \n",
       "818  b000gihfyu  encore software 10593 - encore tlc clue finder...   \n",
       "805  b000fp0k0u  encore software 10478 - encore printmaster v.1...   \n",
       "768  b000fowht8  encore software 10485 - encore printmaster v.1...   \n",
       "720  b000i4rmfe  ahead software 70115 - nero 7 ultra edition en...   \n",
       "239  b000gkli0a  encore software 10566 - encore hoyle card game...   \n",
       "\n",
       "                                           description manufacturer  price  \\\n",
       "652  encore software 10741 : new! the print shop 22...          NaN  49.95   \n",
       "714  encore software 10038 : the print shop 21 delu...          NaN   0.00   \n",
       "391  overview when you're ready to add a creative t...          NaN  49.99   \n",
       "33   overview create professional projects with all...          NaN  49.99   \n",
       "28   overview create professional projects with all...          NaN  99.99   \n",
       "818  encore software 10593 : build a bevy of sharp ...          NaN  19.99   \n",
       "805  encore software 10478 : if you've got a passio...          NaN  30.66   \n",
       "768  encore software 10485 : if you've got a passio...          NaN  39.99   \n",
       "720  ahead software 70115 : nero 7 ultra edition en...          NaN  99.99   \n",
       "239  encore software 10566 : step up to the best de...          NaN  29.99   \n",
       "\n",
       "     similarity  \n",
       "652    1.000000  \n",
       "714    0.871795  \n",
       "391    0.384615  \n",
       "33     0.333333  \n",
       "28     0.333333  \n",
       "818    0.307692  \n",
       "805    0.307692  \n",
       "768    0.282051  \n",
       "720    0.282051  \n",
       "239    0.282051  "
      ]
     },
     "execution_count": 15,
     "metadata": {},
     "output_type": "execute_result"
    }
   ],
   "source": [
    "result = data.sort_values( by = 'similarity', ascending = False )\n",
    "result.head(10)"
   ]
  },
  {
   "cell_type": "markdown",
   "metadata": {},
   "source": [
    "Средняя цена для этих товаров"
   ]
  },
  {
   "cell_type": "code",
   "execution_count": 16,
   "metadata": {
    "ExecuteTime": {
     "end_time": "2019-02-01T15:36:48.862896Z",
     "start_time": "2019-02-01T15:36:48.856701Z"
    }
   },
   "outputs": [
    {
     "data": {
      "text/plain": [
       "43.992000000000004"
      ]
     },
     "execution_count": 16,
     "metadata": {},
     "output_type": "execute_result"
    }
   ],
   "source": [
    "result.iloc[1:6]['price'].mean()"
   ]
  },
  {
   "cell_type": "code",
   "execution_count": null,
   "metadata": {},
   "outputs": [],
   "source": []
  },
  {
   "cell_type": "code",
   "execution_count": null,
   "metadata": {},
   "outputs": [],
   "source": []
  },
  {
   "cell_type": "code",
   "execution_count": null,
   "metadata": {},
   "outputs": [],
   "source": []
  }
 ],
 "metadata": {
  "kernelspec": {
   "display_name": "Python 3",
   "language": "python",
   "name": "python3"
  },
  "language_info": {
   "codemirror_mode": {
    "name": "ipython",
    "version": 3
   },
   "file_extension": ".py",
   "mimetype": "text/x-python",
   "name": "python",
   "nbconvert_exporter": "python",
   "pygments_lexer": "ipython3",
   "version": "3.6.6"
  },
  "varInspector": {
   "cols": {
    "lenName": 16,
    "lenType": 16,
    "lenVar": 40
   },
   "kernels_config": {
    "python": {
     "delete_cmd_postfix": "",
     "delete_cmd_prefix": "del ",
     "library": "var_list.py",
     "varRefreshCmd": "print(var_dic_list())"
    },
    "r": {
     "delete_cmd_postfix": ") ",
     "delete_cmd_prefix": "rm(",
     "library": "var_list.r",
     "varRefreshCmd": "cat(var_dic_list()) "
    }
   },
   "types_to_exclude": [
    "module",
    "function",
    "builtin_function_or_method",
    "instance",
    "_Feature"
   ],
   "window_display": false
  }
 },
 "nbformat": 4,
 "nbformat_minor": 2
}
