{
 "cells": [
  {
   "cell_type": "markdown",
   "metadata": {},
   "source": [
    "# Классификация текстов"
   ]
  },
  {
   "cell_type": "code",
   "execution_count": 1,
   "metadata": {},
   "outputs": [],
   "source": [
    "import pandas as pd\n",
    "import matplotlib.pyplot as plt\n",
    "import random\n",
    "random.seed(1228)\n",
    "from sklearn.feature_extraction.text import *\n",
    "from sklearn.metrics import *\n",
    "from sklearn.pipeline import Pipeline\n",
    "import re\n",
    "from pymystem3 import Mystem\n",
    "import numpy as np\n",
    "import itertools\n",
    "%matplotlib inline\n",
    "\n",
    "import warnings\n",
    "warnings.filterwarnings('ignore')\n",
    "\n",
    "from nltk.stem.snowball import RussianStemmer\n",
    "import seaborn as sns\n"
   ]
  },
  {
   "cell_type": "markdown",
   "metadata": {},
   "source": [
    "Разбиение на тестовое и обучающее множество"
   ]
  },
  {
   "cell_type": "code",
   "execution_count": 2,
   "metadata": {},
   "outputs": [],
   "source": [
    "m = Mystem()\n",
    "regex = re.compile(\"[А-Яа-я]+\")\n",
    "\n",
    "def words_only(text, regex=regex):\n",
    "    try:\n",
    "        return \" \".join(regex.findall(text))\n",
    "    except:\n",
    "        return \"\"\n",
    "\n",
    "def lemmatize(text, mystem=m):\n",
    "    try:\n",
    "        return \"\".join(m.lemmatize(text)).strip()  \n",
    "    except:\n",
    "        return \" \"\n",
    "\n",
    "def stemming(text, stemmer = RussianStemmer()):\n",
    "    try:\n",
    "        return \" \".join([stemmer.stem(w) for w in text.split()])\n",
    "    except:\n",
    "        return \" \"\n",
    "\n"
   ]
  },
  {
   "cell_type": "code",
   "execution_count": 5,
   "metadata": {},
   "outputs": [],
   "source": [
    "import pandas as pd\n",
    "\n",
    "data = pd.read_csv('../data/lenta-ru-news_2018.csv', usecols = ['text', 'topic'])\n",
    "data.dropna(subset=['text', 'topic'], inplace = True)"
   ]
  },
  {
   "cell_type": "code",
   "execution_count": 6,
   "metadata": {},
   "outputs": [
    {
     "data": {
      "text/html": [
       "<div>\n",
       "<style scoped>\n",
       "    .dataframe tbody tr th:only-of-type {\n",
       "        vertical-align: middle;\n",
       "    }\n",
       "\n",
       "    .dataframe tbody tr th {\n",
       "        vertical-align: top;\n",
       "    }\n",
       "\n",
       "    .dataframe thead th {\n",
       "        text-align: right;\n",
       "    }\n",
       "</style>\n",
       "<table border=\"1\" class=\"dataframe\">\n",
       "  <thead>\n",
       "    <tr style=\"text-align: right;\">\n",
       "      <th></th>\n",
       "      <th>text</th>\n",
       "      <th>topic</th>\n",
       "    </tr>\n",
       "  </thead>\n",
       "  <tbody>\n",
       "    <tr>\n",
       "      <th>0</th>\n",
       "      <td>Вице-премьер по социальным вопросам Татьяна Го...</td>\n",
       "      <td>Россия</td>\n",
       "    </tr>\n",
       "    <tr>\n",
       "      <th>1</th>\n",
       "      <td>Австрийские правоохранительные органы не предс...</td>\n",
       "      <td>Спорт</td>\n",
       "    </tr>\n",
       "    <tr>\n",
       "      <th>2</th>\n",
       "      <td>Сотрудники социальной сети Instagram проанализ...</td>\n",
       "      <td>Путешествия</td>\n",
       "    </tr>\n",
       "    <tr>\n",
       "      <th>3</th>\n",
       "      <td>С начала расследования российского вмешательст...</td>\n",
       "      <td>Мир</td>\n",
       "    </tr>\n",
       "    <tr>\n",
       "      <th>4</th>\n",
       "      <td>Хакерская группировка Anonymous опубликовала н...</td>\n",
       "      <td>Мир</td>\n",
       "    </tr>\n",
       "  </tbody>\n",
       "</table>\n",
       "</div>"
      ],
      "text/plain": [
       "                                                text        topic\n",
       "0  Вице-премьер по социальным вопросам Татьяна Го...       Россия\n",
       "1  Австрийские правоохранительные органы не предс...        Спорт\n",
       "2  Сотрудники социальной сети Instagram проанализ...  Путешествия\n",
       "3  С начала расследования российского вмешательст...          Мир\n",
       "4  Хакерская группировка Anonymous опубликовала н...          Мир"
      ]
     },
     "execution_count": 6,
     "metadata": {},
     "output_type": "execute_result"
    }
   ],
   "source": [
    "data.head()"
   ]
  },
  {
   "cell_type": "code",
   "execution_count": 13,
   "metadata": {},
   "outputs": [],
   "source": [
    "corpus_sample_train = pd.DataFrame(columns=data.columns)\n",
    "corpus_sample_test = pd.DataFrame(columns=data.columns)\n",
    "\n",
    "for cl in data['topic'].unique():\n",
    "    corpus_sample = data[data['topic']==cl]\n",
    "    if len(corpus_sample) > 30:\n",
    "        corpus_sample_train = corpus_sample_train.append(corpus_sample.iloc[:101,:])\n",
    "        corpus_sample_test = corpus_sample_test.append(corpus_sample.iloc[100:150,:])\n",
    "    elif len(corpus_sample) > 50:\n",
    "        corpus_sample_train = corpus_sample_train.append(corpus_sample.iloc[:101,:])\n",
    "        corpus_sample_test = corpus_sample_test.append(corpus_sample.iloc[100:150,:])"
   ]
  },
  {
   "cell_type": "code",
   "execution_count": 8,
   "metadata": {},
   "outputs": [],
   "source": [
    "?TfidfVectorizer"
   ]
  },
  {
   "cell_type": "code",
   "execution_count": 14,
   "metadata": {},
   "outputs": [
    {
     "data": {
      "text/plain": [
       "Pipeline(memory=None,\n",
       "     steps=[('vect', CountVectorizer(analyzer='char', binary=False, decode_error='strict',\n",
       "        dtype=<class 'numpy.int64'>, encoding='utf-8', input='content',\n",
       "        lowercase=True, max_df=1.0, max_features=None, min_df=1,\n",
       "        ngram_range={4, 6}, preprocessor=None, stop_words=None,\n",
       "        strip...obs=None,\n",
       "            oob_score=False, random_state=None, verbose=0,\n",
       "            warm_start=False))])"
      ]
     },
     "execution_count": 14,
     "metadata": {},
     "output_type": "execute_result"
    }
   ],
   "source": [
    "from sklearn.naive_bayes import MultinomialNB\n",
    "from sklearn.ensemble import RandomForestClassifier\n",
    "\n",
    "clf = Pipeline([\n",
    "    ('vect', CountVectorizer(analyzer = 'char', ngram_range={4,6})),\n",
    "    ('clf', RandomForestClassifier()),\n",
    "])\n",
    "\n",
    "\n",
    "clf.fit(corpus_sample_train['text'], corpus_sample_train['topic'])"
   ]
  },
  {
   "cell_type": "code",
   "execution_count": 15,
   "metadata": {},
   "outputs": [],
   "source": [
    "true = corpus_sample_test['topic']\n",
    "predictions = clf.predict(corpus_sample_test['text'])"
   ]
  },
  {
   "cell_type": "code",
   "execution_count": 16,
   "metadata": {},
   "outputs": [
    {
     "name": "stdout",
     "output_type": "stream",
     "text": [
      "Precision:   0.54\n",
      "Recall:   0.54\n",
      "F1-measure:   0.52\n",
      "Accuracy:   0.58\n",
      "                   precision    recall  f1-score   support\n",
      "\n",
      "   69-я параллель       0.47      0.78      0.59        50\n",
      "      Бывший СССР       0.59      0.82      0.69        50\n",
      "              Дом       0.60      0.78      0.68        50\n",
      "         Из жизни       0.47      0.68      0.55        50\n",
      "   Интернет и СМИ       0.37      0.34      0.35        50\n",
      "             Крым       0.00      0.00      0.00         0\n",
      "         Культура       0.73      0.66      0.69        50\n",
      "              Мир       0.36      0.20      0.26        50\n",
      "  Наука и техника       0.68      0.64      0.66        50\n",
      "      Путешествия       0.73      0.66      0.69        50\n",
      "           Россия       0.42      0.20      0.27        50\n",
      "Силовые структуры       0.60      0.58      0.59        50\n",
      "            Спорт       0.78      0.94      0.85        50\n",
      "         Ценности       0.70      0.52      0.60        50\n",
      "        Экономика       0.54      0.28      0.37        50\n",
      "\n",
      "        micro avg       0.58      0.58      0.58       700\n",
      "        macro avg       0.54      0.54      0.52       700\n",
      "     weighted avg       0.57      0.58      0.56       700\n",
      "\n"
     ]
    },
    {
     "data": {
      "image/png": "[encoded data removed]",
      "text/plain": [
       "<matplotlib.figure.Figure at 0x14ae28ba8>"
      ]
     },
     "metadata": {},
     "output_type": "display_data"
    }
   ],
   "source": [
    "print(\"Precision: {0:6.2f}\".format(precision_score(true, predictions, average='macro')))\n",
    "print(\"Recall: {0:6.2f}\".format(recall_score(true, predictions, average='macro')))\n",
    "print(\"F1-measure: {0:6.2f}\".format(f1_score(true, predictions, average='macro')))\n",
    "print(\"Accuracy: {0:6.2f}\".format(accuracy_score(true, predictions)))\n",
    "print(classification_report(true, predictions))\n",
    "labels = clf.classes_\n",
    "\n",
    "\n",
    "\n",
    "labels = clf.classes_\n",
    "sns.heatmap(data=confusion_matrix(true, predictions), annot=True, fmt=\"d\", cbar=False, xticklabels=labels, yticklabels=labels)\n",
    "plt.title(\"Confusion matrix\")\n",
    "plt.show()"
   ]
  }
 ],
 "metadata": {
  "kernelspec": {
   "display_name": "Python 3",
   "language": "python",
   "name": "python3"
  },
  "language_info": {
   "codemirror_mode": {
    "name": "ipython",
    "version": 3
   },
   "file_extension": ".py",
   "mimetype": "text/x-python",
   "name": "python",
   "nbconvert_exporter": "python",
   "pygments_lexer": "ipython3",
   "version": "3.6.0"
  }
 },
 "nbformat": 4,
 "nbformat_minor": 1
}
